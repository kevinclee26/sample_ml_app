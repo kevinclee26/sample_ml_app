{
 "cells": [
  {
   "cell_type": "code",
   "execution_count": 255,
   "id": "5e6fc5b3-6504-4a96-8c16-9343fc074b6d",
   "metadata": {
    "tags": []
   },
   "outputs": [],
   "source": [
    "import pandas as pd\n",
    "from sklearn.ensemble import RandomForestClassifier\n",
    "from sklearn.preprocessing import StandardScaler, OneHotEncoder\n",
    "from sklearn.model_selection import train_test_split\n",
    "from sklearn.metrics import classification_report"
   ]
  },
  {
   "cell_type": "code",
   "execution_count": 187,
   "id": "0f9ef064-178d-457b-b391-9f8efb18b7f1",
   "metadata": {
    "tags": []
   },
   "outputs": [],
   "source": [
    "df=pd.read_csv('../data/bank-full.csv', sep=';')"
   ]
  },
  {
   "cell_type": "code",
   "execution_count": 188,
   "id": "701e1934-bc0c-4f27-a75a-221094f98cb1",
   "metadata": {
    "tags": []
   },
   "outputs": [
    {
     "name": "stdout",
     "output_type": "stream",
     "text": [
      "<class 'pandas.core.frame.DataFrame'>\n",
      "RangeIndex: 45211 entries, 0 to 45210\n",
      "Data columns (total 17 columns):\n",
      " #   Column     Non-Null Count  Dtype \n",
      "---  ------     --------------  ----- \n",
      " 0   age        45211 non-null  int64 \n",
      " 1   job        45211 non-null  object\n",
      " 2   marital    45211 non-null  object\n",
      " 3   education  45211 non-null  object\n",
      " 4   default    45211 non-null  object\n",
      " 5   balance    45211 non-null  int64 \n",
      " 6   housing    45211 non-null  object\n",
      " 7   loan       45211 non-null  object\n",
      " 8   contact    45211 non-null  object\n",
      " 9   day        45211 non-null  int64 \n",
      " 10  month      45211 non-null  object\n",
      " 11  duration   45211 non-null  int64 \n",
      " 12  campaign   45211 non-null  int64 \n",
      " 13  pdays      45211 non-null  int64 \n",
      " 14  previous   45211 non-null  int64 \n",
      " 15  poutcome   45211 non-null  object\n",
      " 16  y          45211 non-null  object\n",
      "dtypes: int64(7), object(10)\n",
      "memory usage: 5.9+ MB\n"
     ]
    }
   ],
   "source": [
    "df.info()"
   ]
  },
  {
   "cell_type": "code",
   "execution_count": 228,
   "id": "e670b48e-184b-4511-a232-a3cf2f30e186",
   "metadata": {
    "tags": []
   },
   "outputs": [
    {
     "name": "stdout",
     "output_type": "stream",
     "text": [
      "There should be 42 columns\n"
     ]
    }
   ],
   "source": [
    "target='y'\n",
    "X=df.drop(columns=['y']).copy()\n",
    "cols=list(X.columns)\n",
    "choices={col: None for col in cols}\n",
    "\n",
    "cat_cols=X.dtypes[X.dtypes=='object'].index\n",
    "cont_cols=X.dtypes[X.dtypes!='object'].index\n",
    "unique_vals_count=df[cat_cols].nunique().sum()\n",
    "print(f'There should be {len(cont_cols)-len(cat_cols)+unique_vals_count} columns')"
   ]
  },
  {
   "cell_type": "code",
   "execution_count": 229,
   "id": "7969a15d-8f2d-4c22-865f-93368d9aacfb",
   "metadata": {
    "tags": []
   },
   "outputs": [],
   "source": [
    "X=X.drop(columns=cat_cols).copy()\n",
    "\n",
    "ohe=OneHotEncoder(sparse_output=False)\n",
    "cat_cols_transformed=ohe.fit_transform(df[cat_cols])\n",
    "categories=ohe.categories_\n",
    "cat_feature_names=ohe.get_feature_names_out()\n",
    "\n",
    "for k, v in zip(cat_cols, categories): \n",
    "    choices[k]=list(v)"
   ]
  },
  {
   "cell_type": "code",
   "execution_count": 231,
   "id": "722181dd-f2ca-4e8b-9157-cb7a098df271",
   "metadata": {
    "tags": []
   },
   "outputs": [],
   "source": [
    "X[cat_feature_names]=cat_cols_transformed\n",
    "y=df[target].copy()"
   ]
  },
  {
   "cell_type": "code",
   "execution_count": 207,
   "id": "339ebaa8-7247-48d2-8398-0d2a32e5acf0",
   "metadata": {
    "tags": []
   },
   "outputs": [],
   "source": [
    "X_train, X_test, y_train, y_test=train_test_split(X, y)"
   ]
  },
  {
   "cell_type": "code",
   "execution_count": 232,
   "id": "cac4b37c-4f2e-49d2-9182-d68fd7b9cb07",
   "metadata": {
    "tags": []
   },
   "outputs": [],
   "source": [
    "scaler=StandardScaler()\n",
    "scaler.fit(X_train)\n",
    "X_train_scaled=scaler.transform(X_train)\n",
    "X_test_scaled=scaler.transform(X_test)"
   ]
  },
  {
   "cell_type": "code",
   "execution_count": 175,
   "id": "ac56f5bb-9650-49c4-b475-e7e2c87f1db4",
   "metadata": {
    "tags": []
   },
   "outputs": [
    {
     "name": "stdout",
     "output_type": "stream",
     "text": [
      "Train score: 1.0\n",
      "Test score: 0.9075466690259223\n"
     ]
    }
   ],
   "source": [
    "rfc=RandomForestClassifier()\n",
    "rfc.fit(X_train_scaled, y_train)\n",
    "print(f'Train score: {rfc.score(X_train_scaled, y_train)}')\n",
    "print(f'Test score: {rfc.score(X_test_scaled, y_test)}')"
   ]
  },
  {
   "cell_type": "code",
   "execution_count": 257,
   "id": "54993cc5-0a42-4367-a4f1-a7bf449017cd",
   "metadata": {
    "tags": []
   },
   "outputs": [
    {
     "name": "stdout",
     "output_type": "stream",
     "text": [
      "              precision    recall  f1-score   support\n",
      "\n",
      "          no       0.98      0.99      0.99      9953\n",
      "         yes       0.95      0.83      0.88      1350\n",
      "\n",
      "    accuracy                           0.97     11303\n",
      "   macro avg       0.96      0.91      0.94     11303\n",
      "weighted avg       0.97      0.97      0.97     11303\n",
      "\n"
     ]
    }
   ],
   "source": [
    "print(classification_report(y_test, rfc.predict(X_test_scaled)))"
   ]
  },
  {
   "cell_type": "code",
   "execution_count": 233,
   "id": "2464acc5-7f54-410a-88f8-6e6282bea61a",
   "metadata": {
    "tags": []
   },
   "outputs": [],
   "source": [
    "import pickle\n",
    "\n",
    "with open('choices.pkl', 'wb') as f: \n",
    "    pickle.dump(choices, f)\n",
    "        \n",
    "with open('scaler.pkl', 'wb') as f: \n",
    "    pickle.dump(scaler, f)\n",
    "    \n",
    "with open('ohe.pkl', 'wb') as f: \n",
    "    pickle.dump(ohe, f)    \n",
    "    \n",
    "with open('model.pkl', 'wb') as f: \n",
    "    pickle.dump(rfc, f)"
   ]
  }
 ],
 "metadata": {
  "kernelspec": {
   "display_name": "Python 3 (ipykernel)",
   "language": "python",
   "name": "python3"
  },
  "language_info": {
   "codemirror_mode": {
    "name": "ipython",
    "version": 3
   },
   "file_extension": ".py",
   "mimetype": "text/x-python",
   "name": "python",
   "nbconvert_exporter": "python",
   "pygments_lexer": "ipython3",
   "version": "3.11.5"
  }
 },
 "nbformat": 4,
 "nbformat_minor": 5
}
